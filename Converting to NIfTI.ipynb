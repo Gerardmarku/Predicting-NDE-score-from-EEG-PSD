{
 "cells": [
  {
   "cell_type": "code",
   "execution_count": null,
   "id": "ab30d98a",
   "metadata": {},
   "outputs": [
    {
     "name": "stdout",
     "output_type": "stream",
     "text": [
      "Requirement already satisfied: nibabel in c:\\users\\gerar\\anaconda3\\lib\\site-packages (5.3.2)\n",
      "Requirement already satisfied: importlib-resources>=5.12 in c:\\users\\gerar\\anaconda3\\lib\\site-packages (from nibabel) (6.5.2)\n",
      "Requirement already satisfied: numpy>=1.22 in c:\\users\\gerar\\anaconda3\\lib\\site-packages (from nibabel) (1.26.4)\n",
      "Requirement already satisfied: packaging>=20 in c:\\users\\gerar\\anaconda3\\lib\\site-packages (from nibabel) (23.1)\n",
      "Requirement already satisfied: typing-extensions>=4.6 in c:\\users\\gerar\\anaconda3\\lib\\site-packages (from nibabel) (4.9.0)\n"
     ]
    }
   ],
   "source": [
    "!pip install nibabel\n",
    "\n",
    "import pandas as pd\n",
    "import numpy as np\n",
    "import matplotlib.pyplot as plt\n",
    "from scipy.stats import pearsonr, spearmanr, wilcoxon\n",
    "from statsmodels.stats.multitest import fdrcorrection\n",
    "from itertools import product\n",
    "import nibabel as nib\n",
    "\n",
    "# Load AAL NIfTI and XML\n",
    "aal1_img = nib.load(\"AAl.nii\")\n",
    "aal1_labels = aal1_img.get_fdata()\n",
    "\n",
    "aal1_names = pd.read_xml(\"AAL.xml\", xpath=\".//label\")\n",
    "aal1_names[\"index\"] = pd.to_numeric(aal1_names[\"index\"], errors=\"coerce\")\n",
    "\n",
    "# Remove undefined regions\n",
    "remove_indices = list(map(float, aal1_names[\"index\"].iloc[90:].tolist())) + [0.0]\n"
   ]
  },
  {
   "cell_type": "code",
   "execution_count": null,
   "id": "6a753427",
   "metadata": {},
   "outputs": [
    {
     "name": "stdout",
     "output_type": "stream",
     "text": [
      "                             Precentral_L  Precentral_R  Frontal_Sup_L  \\\n",
      "Alpha_logreg_mean_abs_shap       0.018404      0.011823       0.022591   \n",
      "Beta_logreg_mean_abs_shap        0.003386      0.003786       0.003228   \n",
      "Delta_logreg_mean_abs_shap       0.008149      0.008141       0.007784   \n",
      "Gamma1_logreg_mean_abs_shap      0.007422      0.010436       0.018565   \n",
      "Gamma2_logreg_mean_abs_shap      0.008364      0.012214       0.021049   \n",
      "\n",
      "                             Frontal_Sup_R  Frontal_Sup_Orb_L  \\\n",
      "Alpha_logreg_mean_abs_shap        0.019229           0.004753   \n",
      "Beta_logreg_mean_abs_shap         0.017457           0.022040   \n",
      "Delta_logreg_mean_abs_shap        0.030430           0.012329   \n",
      "Gamma1_logreg_mean_abs_shap       0.006374           0.016761   \n",
      "Gamma2_logreg_mean_abs_shap       0.025030           0.007245   \n",
      "\n",
      "                             Frontal_Sup_Orb_R  Frontal_Mid_L  Frontal_Mid_R  \\\n",
      "Alpha_logreg_mean_abs_shap            0.025857       0.010410       0.009480   \n",
      "Beta_logreg_mean_abs_shap             0.020624       0.009545       0.028492   \n",
      "Delta_logreg_mean_abs_shap            0.025823       0.004988       0.020105   \n",
      "Gamma1_logreg_mean_abs_shap           0.010722       0.018383       0.026202   \n",
      "Gamma2_logreg_mean_abs_shap           0.004575       0.005771       0.021323   \n",
      "\n",
      "                             Frontal_Mid_Orb_L  Frontal_Mid_Orb_R  ...  \\\n",
      "Alpha_logreg_mean_abs_shap            0.018310           0.012088  ...   \n",
      "Beta_logreg_mean_abs_shap             0.032034           0.010045  ...   \n",
      "Delta_logreg_mean_abs_shap            0.022049           0.005989  ...   \n",
      "Gamma1_logreg_mean_abs_shap           0.017008           0.013046  ...   \n",
      "Gamma2_logreg_mean_abs_shap           0.021577           0.012613  ...   \n",
      "\n",
      "                             Temporal_Sup_L  Temporal_Sup_R  \\\n",
      "Alpha_logreg_mean_abs_shap         0.005292        0.000436   \n",
      "Beta_logreg_mean_abs_shap          0.004301        0.000997   \n",
      "Delta_logreg_mean_abs_shap         0.003098        0.001712   \n",
      "Gamma1_logreg_mean_abs_shap        0.006624        0.013074   \n",
      "Gamma2_logreg_mean_abs_shap        0.011255        0.019652   \n",
      "\n",
      "                             Temporal_Pole_Sup_L  Temporal_Pole_Sup_R  \\\n",
      "Alpha_logreg_mean_abs_shap              0.009603             0.002216   \n",
      "Beta_logreg_mean_abs_shap               0.006293             0.017716   \n",
      "Delta_logreg_mean_abs_shap              0.017757             0.002327   \n",
      "Gamma1_logreg_mean_abs_shap             0.009269             0.013515   \n",
      "Gamma2_logreg_mean_abs_shap             0.011656             0.027710   \n",
      "\n",
      "                             Temporal_Mid_L  Temporal_Mid_R  \\\n",
      "Alpha_logreg_mean_abs_shap         0.009741        0.006964   \n",
      "Beta_logreg_mean_abs_shap          0.000000        0.004724   \n",
      "Delta_logreg_mean_abs_shap         0.008238        0.005422   \n",
      "Gamma1_logreg_mean_abs_shap        0.011562        0.003850   \n",
      "Gamma2_logreg_mean_abs_shap        0.000725        0.026356   \n",
      "\n",
      "                             Temporal_Pole_Mid_L  Temporal_Pole_Mid_R  \\\n",
      "Alpha_logreg_mean_abs_shap              0.030252             0.008441   \n",
      "Beta_logreg_mean_abs_shap               0.014494             0.020703   \n",
      "Delta_logreg_mean_abs_shap              0.004896             0.011266   \n",
      "Gamma1_logreg_mean_abs_shap             0.001195             0.014503   \n",
      "Gamma2_logreg_mean_abs_shap             0.008172             0.015355   \n",
      "\n",
      "                             Temporal_Inf_L  Temporal_Inf_R  \n",
      "Alpha_logreg_mean_abs_shap         0.011910        0.009994  \n",
      "Beta_logreg_mean_abs_shap          0.016395        0.009673  \n",
      "Delta_logreg_mean_abs_shap         0.008230        0.011939  \n",
      "Gamma1_logreg_mean_abs_shap        0.005542        0.010490  \n",
      "Gamma2_logreg_mean_abs_shap        0.003635        0.009021  \n",
      "\n",
      "[5 rows x 90 columns]\n"
     ]
    },
    {
     "data": {
      "text/html": [
       "<div>\n",
       "<style scoped>\n",
       "    .dataframe tbody tr th:only-of-type {\n",
       "        vertical-align: middle;\n",
       "    }\n",
       "\n",
       "    .dataframe tbody tr th {\n",
       "        vertical-align: top;\n",
       "    }\n",
       "\n",
       "    .dataframe thead th {\n",
       "        text-align: right;\n",
       "    }\n",
       "</style>\n",
       "<table border=\"1\" class=\"dataframe\">\n",
       "  <thead>\n",
       "    <tr style=\"text-align: right;\">\n",
       "      <th></th>\n",
       "      <th>0</th>\n",
       "      <th>1</th>\n",
       "      <th>2</th>\n",
       "      <th>3</th>\n",
       "      <th>4</th>\n",
       "      <th>5</th>\n",
       "      <th>6</th>\n",
       "      <th>7</th>\n",
       "      <th>8</th>\n",
       "      <th>9</th>\n",
       "      <th>...</th>\n",
       "      <th>80</th>\n",
       "      <th>81</th>\n",
       "      <th>82</th>\n",
       "      <th>83</th>\n",
       "      <th>84</th>\n",
       "      <th>85</th>\n",
       "      <th>86</th>\n",
       "      <th>87</th>\n",
       "      <th>88</th>\n",
       "      <th>89</th>\n",
       "    </tr>\n",
       "  </thead>\n",
       "  <tbody>\n",
       "    <tr>\n",
       "      <th>0</th>\n",
       "      <td>Precentral_L</td>\n",
       "      <td>Precentral_R</td>\n",
       "      <td>Frontal_Sup_L</td>\n",
       "      <td>Frontal_Sup_R</td>\n",
       "      <td>Frontal_Sup_Orb_L</td>\n",
       "      <td>Frontal_Sup_Orb_R</td>\n",
       "      <td>Frontal_Mid_L</td>\n",
       "      <td>Frontal_Mid_R</td>\n",
       "      <td>Frontal_Mid_Orb_L</td>\n",
       "      <td>Frontal_Mid_Orb_R</td>\n",
       "      <td>...</td>\n",
       "      <td>Temporal_Sup_L</td>\n",
       "      <td>Temporal_Sup_R</td>\n",
       "      <td>Temporal_Pole_Sup_L</td>\n",
       "      <td>Temporal_Pole_Sup_R</td>\n",
       "      <td>Temporal_Mid_L</td>\n",
       "      <td>Temporal_Mid_R</td>\n",
       "      <td>Temporal_Pole_Mid_L</td>\n",
       "      <td>Temporal_Pole_Mid_R</td>\n",
       "      <td>Temporal_Inf_L</td>\n",
       "      <td>Temporal_Inf_R</td>\n",
       "    </tr>\n",
       "    <tr>\n",
       "      <th>1</th>\n",
       "      <td>0.00493750402728</td>\n",
       "      <td>0.0083748001210592</td>\n",
       "      <td>0.0125227384738374</td>\n",
       "      <td>0.0144355600836773</td>\n",
       "      <td>0.0030003267495173</td>\n",
       "      <td>0.0145159622316273</td>\n",
       "      <td>0.0137966462561684</td>\n",
       "      <td>0.008497210176736</td>\n",
       "      <td>0.0089596920312734</td>\n",
       "      <td>0.0115438782246566</td>\n",
       "      <td>...</td>\n",
       "      <td>0.0218304871114452</td>\n",
       "      <td>0.010347740147354</td>\n",
       "      <td>0.0099173323973819</td>\n",
       "      <td>0.0063239780453132</td>\n",
       "      <td>0.0149964263358161</td>\n",
       "      <td>0.0327226870073947</td>\n",
       "      <td>0.0071422219745136</td>\n",
       "      <td>0.0050524658185766</td>\n",
       "      <td>0.0247921008195449</td>\n",
       "      <td>0.0304960640485639</td>\n",
       "    </tr>\n",
       "  </tbody>\n",
       "</table>\n",
       "<p>2 rows × 90 columns</p>\n",
       "</div>"
      ],
      "text/plain": [
       "                 0                   1                   2   \\\n",
       "0      Precentral_L        Precentral_R       Frontal_Sup_L   \n",
       "1  0.00493750402728  0.0083748001210592  0.0125227384738374   \n",
       "\n",
       "                   3                   4                   5   \\\n",
       "0       Frontal_Sup_R   Frontal_Sup_Orb_L   Frontal_Sup_Orb_R   \n",
       "1  0.0144355600836773  0.0030003267495173  0.0145159622316273   \n",
       "\n",
       "                   6                  7                   8   \\\n",
       "0       Frontal_Mid_L      Frontal_Mid_R   Frontal_Mid_Orb_L   \n",
       "1  0.0137966462561684  0.008497210176736  0.0089596920312734   \n",
       "\n",
       "                   9   ...                  80                 81  \\\n",
       "0   Frontal_Mid_Orb_R  ...      Temporal_Sup_L     Temporal_Sup_R   \n",
       "1  0.0115438782246566  ...  0.0218304871114452  0.010347740147354   \n",
       "\n",
       "                    82                   83                  84  \\\n",
       "0  Temporal_Pole_Sup_L  Temporal_Pole_Sup_R      Temporal_Mid_L   \n",
       "1   0.0099173323973819   0.0063239780453132  0.0149964263358161   \n",
       "\n",
       "                   85                   86                   87  \\\n",
       "0      Temporal_Mid_R  Temporal_Pole_Mid_L  Temporal_Pole_Mid_R   \n",
       "1  0.0327226870073947   0.0071422219745136   0.0050524658185766   \n",
       "\n",
       "                   88                  89  \n",
       "0      Temporal_Inf_L      Temporal_Inf_R  \n",
       "1  0.0247921008195449  0.0304960640485639  \n",
       "\n",
       "[2 rows x 90 columns]"
      ]
     },
     "execution_count": 3,
     "metadata": {},
     "output_type": "execute_result"
    }
   ],
   "source": [
    "import pandas as pd\n",
    "import numpy as np\n",
    "\n",
    "# Define file paths for each frequency band\n",
    "shap_files = {\n",
    "    \"Alpha\": \"C:/Users/gerar/Downloads/transposed_shap_files/Alpha_rf_feature_importance_reformatted.csv\",\n",
    "    \"Beta\": \"C:/Users/gerar/Downloads/transposed_shap_files/Beta_rf_feature_importance_reformatted.csv\",\n",
    "    \"Delta\": \"C:/Users/gerar/Downloads/transposed_shap_files/Delta_rf_feature_importance_reformatted.csv\",\n",
    "    \"Gamma1\": \"C:/Users/gerar/Downloads/transposed_shap_files/Gamma1_rf_feature_importance_reformatted.csv\",\n",
    "    \"Gamma2\": \"C:/Users/gerar/Downloads/transposed_shap_files/Gamma2_rf_feature_importance_reformatted.csv\",\n",
    "    \"Theta\": \"C:/Users/gerar/Downloads/transposed_shap_files/Theta_rf_feature_importance_reformatted.csv\",\n",
    "}\n",
    "\n",
    "band_values = []\n",
    "brain_regions = None\n",
    "\n",
    "# Read and store SHAP values\n",
    "for band, path in shap_files.items():\n",
    "    df = pd.read_csv(path, header=None)\n",
    "    if brain_regions is None:\n",
    "        brain_regions = df.iloc[0].tolist()  # First row: brain region names\n",
    "    band_values.append(df.iloc[1].values.astype(float))  # Second row: SHAP values\n",
    "\n",
    "# Create final DataFrame (rows=frequency bands, columns = brain regions)\n",
    "shap_df = pd.DataFrame(\n",
    "    data=np.array(band_values),\n",
    "    index=[f\"{band}_logreg_mean_abs_shap\" for band in shap_files.keys()],\n",
    "    columns=brain_regions\n",
    ")\n",
    "\n",
    "print(shap_df.head())\n",
    "df\n"
   ]
  },
  {
   "cell_type": "code",
   "execution_count": null,
   "id": "ba5dc095",
   "metadata": {},
   "outputs": [
    {
     "name": "stdout",
     "output_type": "stream",
     "text": [
      "Processing Alpha...\n"
     ]
    },
    {
     "name": "stderr",
     "output_type": "stream",
     "text": [
      "Alpha - i: 100%|██████████| 91/91 [00:01<00:00, 45.85it/s] \n"
     ]
    },
    {
     "name": "stdout",
     "output_type": "stream",
     "text": [
      "✅ Saved /content/Alpha.nii.gz\n",
      "Processing Beta...\n"
     ]
    },
    {
     "name": "stderr",
     "output_type": "stream",
     "text": [
      "Beta - i: 100%|██████████| 91/91 [00:01<00:00, 46.15it/s] \n"
     ]
    },
    {
     "name": "stdout",
     "output_type": "stream",
     "text": [
      "✅ Saved /content/Beta.nii.gz\n",
      "Processing Delta...\n"
     ]
    },
    {
     "name": "stderr",
     "output_type": "stream",
     "text": [
      "Delta - i: 100%|██████████| 91/91 [00:01<00:00, 45.74it/s] \n"
     ]
    },
    {
     "name": "stdout",
     "output_type": "stream",
     "text": [
      "✅ Saved /content/Delta.nii.gz\n",
      "Processing Gamma1...\n"
     ]
    },
    {
     "name": "stderr",
     "output_type": "stream",
     "text": [
      "Gamma1 - i: 100%|██████████| 91/91 [00:02<00:00, 44.51it/s] \n"
     ]
    },
    {
     "name": "stdout",
     "output_type": "stream",
     "text": [
      "✅ Saved /content/Gamma1.nii.gz\n",
      "Processing Gamma2...\n"
     ]
    },
    {
     "name": "stderr",
     "output_type": "stream",
     "text": [
      "Gamma2 - i: 100%|██████████| 91/91 [00:02<00:00, 45.16it/s] \n"
     ]
    },
    {
     "name": "stdout",
     "output_type": "stream",
     "text": [
      "✅ Saved /content/Gamma2.nii.gz\n",
      "Processing Theta...\n"
     ]
    },
    {
     "name": "stderr",
     "output_type": "stream",
     "text": [
      "Theta - i: 100%|██████████| 91/91 [00:02<00:00, 45.20it/s] "
     ]
    },
    {
     "name": "stdout",
     "output_type": "stream",
     "text": [
      "✅ Saved /content/Theta.nii.gz\n"
     ]
    },
    {
     "name": "stderr",
     "output_type": "stream",
     "text": [
      "\n"
     ]
    },
    {
     "ename": "",
     "evalue": "",
     "output_type": "error",
     "traceback": [
      "\u001b[1;31mThe Kernel crashed while executing code in the current cell or a previous cell. \n",
      "\u001b[1;31mPlease review the code in the cell(s) to identify a possible cause of the failure. \n",
      "\u001b[1;31mClick <a href='https://aka.ms/vscodeJupyterKernelCrash'>here</a> for more info. \n",
      "\u001b[1;31mView Jupyter <a href='command:jupyter.viewOutput'>log</a> for further details."
     ]
    }
   ],
   "source": [
    "from tqdm import tqdm\n",
    "import numpy as np\n",
    "import nibabel as nib\n",
    "\n",
    "# Create a dictionary to map index values to region names\n",
    "index_to_name = dict(zip(aal1_names[\"index\"], aal1_names[\"name\"]))\n",
    "\n",
    "# EEG bands (must match the index names in shap_df)\n",
    "bands = [\"Alpha\", \"Beta\", \"Delta\", \"Gamma1\", \"Gamma2\", \"Theta\"]\n",
    "\n",
    "for band in bands:\n",
    "    print(f\"Processing {band}...\")\n",
    "    new_data = np.zeros((91, 109, 91), dtype=np.float32)\n",
    "\n",
    "    for i in tqdm(range(91), desc=f\"{band} - i\"):\n",
    "        for j in range(109):\n",
    "            for k in range(91):\n",
    "                idx = float(aal1_labels[i, j, k])\n",
    "                if idx not in remove_indices:\n",
    "                    region_name = index_to_name.get(idx)\n",
    "                    if region_name and region_name in shap_df.columns:\n",
    "                        value = shap_df.loc[f\"{band}_logreg_mean_abs_shap\", region_name]\n",
    "                        new_data[i, j, k] = value\n",
    "\n",
    "    # Save to NIfTI\n",
    "    out_img = nib.Nifti1Image(new_data, affine=aal1_img.affine, header=aal1_img.header)\n",
    "    nib.save(out_img, f\"C:/Users/gerar/Downloads/{band}.nii.gz\")\n",
    "    print(f\"✅ Saved /content/{band}.nii.gz\")\n"
   ]
  }
 ],
 "metadata": {
  "kernelspec": {
   "display_name": "base",
   "language": "python",
   "name": "python3"
  },
  "language_info": {
   "codemirror_mode": {
    "name": "ipython",
    "version": 3
   },
   "file_extension": ".py",
   "mimetype": "text/x-python",
   "name": "python",
   "nbconvert_exporter": "python",
   "pygments_lexer": "ipython3",
   "version": "3.11.7"
  }
 },
 "nbformat": 4,
 "nbformat_minor": 5
}
